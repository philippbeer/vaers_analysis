{
 "cells": [
  {
   "cell_type": "code",
   "execution_count": 1,
   "id": "9bd2799c-3659-40ae-b84e-316c2adb3e1a",
   "metadata": {},
   "outputs": [],
   "source": [
    "from os import listdir\n",
    "from os.path import isfile, join\n",
    "import re\n",
    "from typing import List\n",
    "\n",
    "import pandas as pd\n",
    "import numpy as np"
   ]
  },
  {
   "cell_type": "code",
   "execution_count": 2,
   "id": "1b745524-3c08-4224-a835-d2f5cc56fffb",
   "metadata": {},
   "outputs": [],
   "source": [
    "path = \"all_data/\"\n",
    "filepaths = [join(path, f) for f in listdir(path) if isfile(join(path, f))]\n",
    "r = re.compile(\".*VAERSDATA.csv\")\n",
    "fp_data = list(filter(r.match, filepaths))"
   ]
  },
  {
   "cell_type": "code",
   "execution_count": 11,
   "id": "6c646d62-34fa-47b0-9291-bb3d9920302f",
   "metadata": {},
   "outputs": [
    {
     "data": {
      "text/plain": [
       "(34446, 35)"
      ]
     },
     "execution_count": 11,
     "metadata": {},
     "output_type": "execute_result"
    }
   ],
   "source": [
    "df = pd.DataFrame()\n",
    "for path in fp_data[:3]:\n",
    "    df_tmp = pd.read_csv(path)\n",
    "    df = df.append(df_tmp)\n",
    "    \n",
    "df.shape"
   ]
  },
  {
   "cell_type": "markdown",
   "id": "002cdc0e-569c-4e8d-b00c-accad558d666",
   "metadata": {},
   "source": [
    "## convert dates to datetime"
   ]
  },
  {
   "cell_type": "code",
   "execution_count": 13,
   "id": "4bda4a0e-734f-413f-9a00-eab3981a2d79",
   "metadata": {},
   "outputs": [],
   "source": [
    "df['RECVDATE'] = pd.to_datetime(df['RECVDATE'], format=\"%m/%d/%Y\")\n",
    "df['DATEDIED'] = pd.to_datetime(df['DATEDIED'], format=\"%m/%d/%Y\")\n",
    "df['VAX_DATE'] = pd.to_datetime(df['VAX_DATE'], format=\"%m/%d/%Y\")\n",
    "df['ONSET_DATE'] = pd.to_datetime(df['ONSET_DATE'], format=\"%m/%d/%Y\")\n",
    "df['TODAYS_DATE'] = pd.to_datetime(df['TODAYS_DATE'], format=\"%m/%d/%Y\")"
   ]
  },
  {
   "cell_type": "markdown",
   "id": "26e73f0a-7a7c-46fc-8b79-dd2eeea1f324",
   "metadata": {},
   "source": [
    "## replace nan with 'N' where applicable"
   ]
  },
  {
   "cell_type": "code",
   "execution_count": null,
   "id": "5d7b035c-656e-4634-86af-6dd92988a34d",
   "metadata": {
    "tags": []
   },
   "outputs": [],
   "source": [
    "def convert_date_format(df: pd.DataFrame, cols: List[str], date_format: str) -> pd.DataFrame:\n",
    "    for col in cols:\n",
    "        df[col] = pd.to_datetime(df[col], format=date_format)\n",
    "    return df"
   ]
  },
  {
   "cell_type": "code",
   "execution_count": null,
   "id": "837e0c96-c0a5-4064-a89c-bea16c2e0c28",
   "metadata": {},
   "outputs": [],
   "source": [
    "def convert_nans(df: pd.DataFrame, cols: List[str], replace_value:str) -> pd.DataFrame:\n",
    "    for col in cols:\n",
    "        df[col].replace(np.nan, replace_value, inplace=True)\n",
    "    return df"
   ]
  },
  {
   "cell_type": "code",
   "execution_count": null,
   "id": "b0ced0af-fd0d-45df-a601-c44875dc121b",
   "metadata": {},
   "outputs": [],
   "source": [
    "cols_date_convert = ['RECVDATE', 'DATEDIED', 'VAX_DATE', 'ONSET_DATE', 'TODAYS_DATE']\n",
    "cols_nans_convert = ['DIED', 'HOSPITAL']\n",
    "date_format = \"%m/%d/%Y\""
   ]
  },
  {
   "cell_type": "code",
   "execution_count": null,
   "id": "86655f41-13a3-4185-bff1-3c830ca97b13",
   "metadata": {},
   "outputs": [],
   "source": [
    "df = convert_date_format(df, cols_date_convert, date_format)\n",
    "df = convert_nans(df, cols_nans_convert, 'N')"
   ]
  },
  {
   "cell_type": "code",
   "execution_count": null,
   "id": "b8f77b01-81f9-4906-9280-2ae12a6589fc",
   "metadata": {},
   "outputs": [],
   "source": [
    "cut_bins = [0, 15, 25, 35, 45, 55, 65, 75, 85, 120]\n",
    "labels = [\"0-15\", \"15-25\", \"25-35\", \"35-45\", \"45-55\", \"55-65\", \n",
    "         \"65-75\", \"75-85\", \">85\"]"
   ]
  },
  {
   "cell_type": "code",
   "execution_count": null,
   "id": "d29e0b3b-c636-4467-89f4-2865a7107575",
   "metadata": {},
   "outputs": [],
   "source": [
    "df['AGE_BIN'] = pd.cut(df['AGE_YRS'], bins=cut_bins)"
   ]
  },
  {
   "cell_type": "code",
   "execution_count": null,
   "id": "253dbf8e-539f-4268-90a1-4668663b3d95",
   "metadata": {},
   "outputs": [],
   "source": [
    "pd.cut(df['AGE_YRS'], bins=cut_bins)[0]"
   ]
  },
  {
   "cell_type": "code",
   "execution_count": null,
   "id": "e653fcd4-b3f0-426b-b421-31b4e15a5ae3",
   "metadata": {},
   "outputs": [],
   "source": [
    "df_yrly = pd.DataFrame()\n",
    "\n",
    "\n"
   ]
  },
  {
   "cell_type": "code",
   "execution_count": null,
   "id": "3fd61c67-033c-4e24-acb8-aeeff20f03ab",
   "metadata": {},
   "outputs": [],
   "source": [
    "df.groupby([df['RECVDATE'].dt.year, 'AGE_BIN', 'DIED', 'SEX']).count()"
   ]
  },
  {
   "cell_type": "markdown",
   "id": "3d7b9113-f253-4a3c-b404-8ae231895dce",
   "metadata": {
    "tags": []
   },
   "source": [
    "## create subset"
   ]
  },
  {
   "cell_type": "code",
   "execution_count": null,
   "id": "5298c868-3767-4c25-a495-0e9feccbf38c",
   "metadata": {},
   "outputs": [],
   "source": [
    "df_death = df[['RECVDATE', 'DIED', 'DATEDIED', 'VAX_DATE', 'RECOVD', 'ALLERGIES']]"
   ]
  },
  {
   "cell_type": "code",
   "execution_count": null,
   "id": "2318c060-000a-403b-9421-8dc6d52e91c7",
   "metadata": {},
   "outputs": [],
   "source": [
    "df_death.head()"
   ]
  },
  {
   "cell_type": "code",
   "execution_count": null,
   "id": "5a00bfab-eff0-4008-a7dd-e2c6a8899613",
   "metadata": {},
   "outputs": [],
   "source": [
    "df_death['RECOVD'].unique()"
   ]
  },
  {
   "cell_type": "code",
   "execution_count": null,
   "id": "1f1981c0-1e06-4326-9d87-5e21524b881c",
   "metadata": {},
   "outputs": [],
   "source": [
    "df_death['DIED'].replace(np.nan, 'N', inplace=True)"
   ]
  },
  {
   "cell_type": "code",
   "execution_count": null,
   "id": "d8206bb5-9737-4a1e-87c9-b8da78a5ba62",
   "metadata": {},
   "outputs": [],
   "source": [
    "df_death.head()"
   ]
  },
  {
   "cell_type": "markdown",
   "id": "842bda83-ccde-43f4-b15e-dc42ba809112",
   "metadata": {},
   "source": [
    "## Convert Date field to timestamp"
   ]
  },
  {
   "cell_type": "code",
   "execution_count": null,
   "id": "4b1efb4d-559f-4efd-82e9-0685eb51eeb4",
   "metadata": {},
   "outputs": [],
   "source": [
    "df['HOSPITAL'].unique()"
   ]
  },
  {
   "cell_type": "code",
   "execution_count": null,
   "id": "2b8b57df-57c4-4ebf-be99-63f0a88ce112",
   "metadata": {},
   "outputs": [],
   "source": [
    "df.dtypes"
   ]
  },
  {
   "cell_type": "code",
   "execution_count": null,
   "id": "7335f046-9ad2-4fde-af06-d7bc7dbcb28d",
   "metadata": {},
   "outputs": [],
   "source": []
  }
 ],
 "metadata": {
  "kernelspec": {
   "display_name": "Python 3",
   "language": "python",
   "name": "python3"
  },
  "language_info": {
   "codemirror_mode": {
    "name": "ipython",
    "version": 3
   },
   "file_extension": ".py",
   "mimetype": "text/x-python",
   "name": "python",
   "nbconvert_exporter": "python",
   "pygments_lexer": "ipython3",
   "version": "3.9.4"
  }
 },
 "nbformat": 4,
 "nbformat_minor": 5
}
